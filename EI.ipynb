{
 "cells": [
  {
   "cell_type": "code",
   "execution_count": 21,
   "metadata": {},
   "outputs": [],
   "source": [
    "import csv\n",
    "import numpy as np\n",
    "import os"
   ]
  },
  {
   "cell_type": "code",
   "execution_count": 22,
   "metadata": {},
   "outputs": [],
   "source": [
    "liste=[]\n",
    "with open(r\"C:\\Users\\louis\\OneDrive\\Documents\\CS\\EI-e-commerce\\Y_train_CVw08PX.csv\", encoding=\"Macintosh\") as file_name:\n",
    "    for el in file_name :\n",
    "        el=el[:-1]\n",
    "        ele=el.split(';')\n",
    "        liste.append(ele)"
   ]
  },
  {
   "cell_type": "code",
   "execution_count": 23,
   "metadata": {},
   "outputs": [],
   "source": [
    "liste=liste[1:]"
   ]
  },
  {
   "cell_type": "code",
   "execution_count": 25,
   "metadata": {},
   "outputs": [],
   "source": [
    "n=len(liste)\n",
    "codes=[]\n",
    "for i in range(n):\n",
    "    a=int(liste[i][0])\n",
    "    b=int(liste[i][1])\n",
    "    codes.append([a,b])"
   ]
  },
  {
   "cell_type": "code",
   "execution_count": 29,
   "metadata": {},
   "outputs": [],
   "source": [
    "max=codes[0][1]\n",
    "for i in range (n):\n",
    "    if codes[i][1]>max:\n",
    "        max=codes[i][1]\n",
    "cat=[[i,0] for i in range(1,max+1)]\n"
   ]
  },
  {
   "cell_type": "code",
   "execution_count": 30,
   "metadata": {},
   "outputs": [],
   "source": [
    "for i in range(len(codes)):\n",
    "    num=int(codes[i][1])\n",
    "    cat[num-1][1]+=1"
   ]
  },
  {
   "cell_type": "code",
   "execution_count": 34,
   "metadata": {},
   "outputs": [],
   "source": [
    "categories=[]\n",
    "for i in range(len(cat)):\n",
    "    if cat[i][1]!=0:\n",
    "        categories.append(cat[i])\n"
   ]
  },
  {
   "cell_type": "code",
   "execution_count": 37,
   "metadata": {},
   "outputs": [],
   "source": [
    "np.savetxt(\"Données.csv\", categories, delimiter =\",\",fmt ='% s')"
   ]
  }
 ],
 "metadata": {
  "interpreter": {
   "hash": "1d6af14acdc7ecb4a4ffb2f7822348bfe8197883c7e93312ba8ba6466a5f60c1"
  },
  "kernelspec": {
   "display_name": "Python 3.9.10 64-bit (windows store)",
   "language": "python",
   "name": "python3"
  },
  "language_info": {
   "codemirror_mode": {
    "name": "ipython",
    "version": 3
   },
   "file_extension": ".py",
   "mimetype": "text/x-python",
   "name": "python",
   "nbconvert_exporter": "python",
   "pygments_lexer": "ipython3",
   "version": "3.9.13"
  },
  "orig_nbformat": 4
 },
 "nbformat": 4,
 "nbformat_minor": 2
}
